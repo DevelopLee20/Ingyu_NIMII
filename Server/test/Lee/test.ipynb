{
 "cells": [
  {
   "cell_type": "code",
   "execution_count": 2,
   "metadata": {},
   "outputs": [
    {
     "ename": "MissingSchema",
     "evalue": "Invalid URL 'www.safemap.go.kr/openApiService/wms/getLayerData.do?apikey=TP5YLD8P-TP5Y-TP5Y-TP5Y-TP5YLD8PH9&service=WFS&request=GetCapabilities&version=1.0.0': No scheme supplied. Perhaps you meant https://www.safemap.go.kr/openApiService/wms/getLayerData.do?apikey=TP5YLD8P-TP5Y-TP5Y-TP5Y-TP5YLD8PH9&service=WFS&request=GetCapabilities&version=1.0.0?",
     "output_type": "error",
     "traceback": [
      "\u001b[1;31m---------------------------------------------------------------------------\u001b[0m",
      "\u001b[1;31mMissingSchema\u001b[0m                             Traceback (most recent call last)",
      "\u001b[1;32mc:\\Users\\dldls\\OneDrive\\바탕 화면\\Safe-return\\Server\\test\\Lee\\test.ipynb Cell 1\u001b[0m line \u001b[0;36m1\n\u001b[0;32m      <a href='vscode-notebook-cell:/c%3A/Users/dldls/OneDrive/%EB%B0%94%ED%83%95%20%ED%99%94%EB%A9%B4/Safe-return/Server/test/Lee/test.ipynb#W0sZmlsZQ%3D%3D?line=6'>7</a>\u001b[0m url \u001b[39m=\u001b[39m \u001b[39m'\u001b[39m\u001b[39msafemap.go.kr/openApiService/wms/getLayerData.do\u001b[39m\u001b[39m'\u001b[39m\n\u001b[0;32m      <a href='vscode-notebook-cell:/c%3A/Users/dldls/OneDrive/%EB%B0%94%ED%83%95%20%ED%99%94%EB%A9%B4/Safe-return/Server/test/Lee/test.ipynb#W0sZmlsZQ%3D%3D?line=8'>9</a>\u001b[0m param \u001b[39m=\u001b[39m {\n\u001b[0;32m     <a href='vscode-notebook-cell:/c%3A/Users/dldls/OneDrive/%EB%B0%94%ED%83%95%20%ED%99%94%EB%A9%B4/Safe-return/Server/test/Lee/test.ipynb#W0sZmlsZQ%3D%3D?line=9'>10</a>\u001b[0m     \u001b[39m'\u001b[39m\u001b[39mname\u001b[39m\u001b[39m'\u001b[39m: \u001b[39m'\u001b[39m\u001b[39m범죄주의구간(전체)\u001b[39m\u001b[39m'\u001b[39m,\n\u001b[0;32m     <a href='vscode-notebook-cell:/c%3A/Users/dldls/OneDrive/%EB%B0%94%ED%83%95%20%ED%99%94%EB%A9%B4/Safe-return/Server/test/Lee/test.ipynb#W0sZmlsZQ%3D%3D?line=10'>11</a>\u001b[0m     \u001b[39m'\u001b[39m\u001b[39mserverUrl\u001b[39m\u001b[39m'\u001b[39m: \u001b[39m'\u001b[39m\u001b[39mwww.safemap.go.kr/openApiService/wms/getLayerData.do?apikey=TP5YLD8P-TP5Y-TP5Y-TP5Y-TP5YLD8PH9\u001b[39m\u001b[39m'\u001b[39m,\n\u001b[0;32m     <a href='vscode-notebook-cell:/c%3A/Users/dldls/OneDrive/%EB%B0%94%ED%83%95%20%ED%99%94%EB%A9%B4/Safe-return/Server/test/Lee/test.ipynb#W0sZmlsZQ%3D%3D?line=11'>12</a>\u001b[0m     \u001b[39m'\u001b[39m\u001b[39mlayername\u001b[39m\u001b[39m'\u001b[39m: \u001b[39m'\u001b[39m\u001b[39mA2SM_CRMNLHSPOT_TOT\u001b[39m\u001b[39m'\u001b[39m,\n\u001b[0;32m     <a href='vscode-notebook-cell:/c%3A/Users/dldls/OneDrive/%EB%B0%94%ED%83%95%20%ED%99%94%EB%A9%B4/Safe-return/Server/test/Lee/test.ipynb#W0sZmlsZQ%3D%3D?line=12'>13</a>\u001b[0m     \u001b[39m'\u001b[39m\u001b[39mstyles\u001b[39m\u001b[39m'\u001b[39m: \u001b[39m'\u001b[39m\u001b[39mA2SM_CrmnlHspot_Tot_Tot\u001b[39m\u001b[39m'\u001b[39m\n\u001b[0;32m     <a href='vscode-notebook-cell:/c%3A/Users/dldls/OneDrive/%EB%B0%94%ED%83%95%20%ED%99%94%EB%A9%B4/Safe-return/Server/test/Lee/test.ipynb#W0sZmlsZQ%3D%3D?line=13'>14</a>\u001b[0m }\n\u001b[1;32m---> <a href='vscode-notebook-cell:/c%3A/Users/dldls/OneDrive/%EB%B0%94%ED%83%95%20%ED%99%94%EB%A9%B4/Safe-return/Server/test/Lee/test.ipynb#W0sZmlsZQ%3D%3D?line=15'>16</a>\u001b[0m wfs \u001b[39m=\u001b[39m WebFeatureService(url\u001b[39m=\u001b[39;49m\u001b[39m'\u001b[39;49m\u001b[39mwww.safemap.go.kr/openApiService/wms/getLayerData.do?apikey=TP5YLD8P-TP5Y-TP5Y-TP5Y-TP5YLD8PH9\u001b[39;49m\u001b[39m'\u001b[39;49m)\n\u001b[0;32m     <a href='vscode-notebook-cell:/c%3A/Users/dldls/OneDrive/%EB%B0%94%ED%83%95%20%ED%99%94%EB%A9%B4/Safe-return/Server/test/Lee/test.ipynb#W0sZmlsZQ%3D%3D?line=16'>17</a>\u001b[0m \u001b[39mprint\u001b[39m(wfs\u001b[39m.\u001b[39mcontents)\n",
      "File \u001b[1;32mc:\\Users\\dldls\\anaconda3\\Lib\\site-packages\\owslib\\wfs.py:48\u001b[0m, in \u001b[0;36mWebFeatureService\u001b[1;34m(url, version, xml, parse_remote_metadata, timeout, username, password, headers, auth)\u001b[0m\n\u001b[0;32m     45\u001b[0m clean_url \u001b[39m=\u001b[39m clean_ows_url(url)\n\u001b[0;32m     47\u001b[0m \u001b[39mif\u001b[39;00m version \u001b[39min\u001b[39;00m [\u001b[39m'\u001b[39m\u001b[39m1.0\u001b[39m\u001b[39m'\u001b[39m, \u001b[39m'\u001b[39m\u001b[39m1.0.0\u001b[39m\u001b[39m'\u001b[39m]:\n\u001b[1;32m---> 48\u001b[0m     \u001b[39mreturn\u001b[39;00m wfs100\u001b[39m.\u001b[39;49mWebFeatureService_1_0_0(\n\u001b[0;32m     49\u001b[0m         clean_url, version, xml, parse_remote_metadata,\n\u001b[0;32m     50\u001b[0m         timeout\u001b[39m=\u001b[39;49mtimeout, headers\u001b[39m=\u001b[39;49mheaders, auth\u001b[39m=\u001b[39;49mauth)\n\u001b[0;32m     51\u001b[0m \u001b[39melif\u001b[39;00m version \u001b[39min\u001b[39;00m [\u001b[39m'\u001b[39m\u001b[39m1.1\u001b[39m\u001b[39m'\u001b[39m, \u001b[39m'\u001b[39m\u001b[39m1.1.0\u001b[39m\u001b[39m'\u001b[39m]:\n\u001b[0;32m     52\u001b[0m     \u001b[39mreturn\u001b[39;00m wfs110\u001b[39m.\u001b[39mWebFeatureService_1_1_0(\n\u001b[0;32m     53\u001b[0m         clean_url, version, xml, parse_remote_metadata,\n\u001b[0;32m     54\u001b[0m         timeout\u001b[39m=\u001b[39mtimeout, headers\u001b[39m=\u001b[39mheaders, auth\u001b[39m=\u001b[39mauth)\n",
      "File \u001b[1;32mc:\\Users\\dldls\\anaconda3\\Lib\\site-packages\\owslib\\feature\\wfs100.py:106\u001b[0m, in \u001b[0;36mWebFeatureService_1_0_0.__new__\u001b[1;34m(self, url, version, xml, parse_remote_metadata, timeout, headers, username, password, auth)\u001b[0m\n\u001b[0;32m     90\u001b[0m \u001b[39m\u001b[39m\u001b[39m\"\"\" overridden __new__ method\u001b[39;00m\n\u001b[0;32m     91\u001b[0m \n\u001b[0;32m     92\u001b[0m \u001b[39m@type url: string\u001b[39;00m\n\u001b[1;32m   (...)\u001b[0m\n\u001b[0;32m    103\u001b[0m \u001b[39m@return: initialized WebFeatureService_1_0_0 object\u001b[39;00m\n\u001b[0;32m    104\u001b[0m \u001b[39m\"\"\"\u001b[39;00m\n\u001b[0;32m    105\u001b[0m obj \u001b[39m=\u001b[39m \u001b[39mobject\u001b[39m\u001b[39m.\u001b[39m\u001b[39m__new__\u001b[39m(\u001b[39mself\u001b[39m)\n\u001b[1;32m--> 106\u001b[0m obj\u001b[39m.\u001b[39;49m\u001b[39m__init__\u001b[39;49m(\n\u001b[0;32m    107\u001b[0m     url,\n\u001b[0;32m    108\u001b[0m     version,\n\u001b[0;32m    109\u001b[0m     xml,\n\u001b[0;32m    110\u001b[0m     parse_remote_metadata,\n\u001b[0;32m    111\u001b[0m     timeout,\n\u001b[0;32m    112\u001b[0m     headers\u001b[39m=\u001b[39;49mheaders,\n\u001b[0;32m    113\u001b[0m     username\u001b[39m=\u001b[39;49musername,\n\u001b[0;32m    114\u001b[0m     password\u001b[39m=\u001b[39;49mpassword,\n\u001b[0;32m    115\u001b[0m     auth\u001b[39m=\u001b[39;49mauth,\n\u001b[0;32m    116\u001b[0m )\n\u001b[0;32m    117\u001b[0m \u001b[39mreturn\u001b[39;00m obj\n",
      "File \u001b[1;32mc:\\Users\\dldls\\anaconda3\\Lib\\site-packages\\owslib\\feature\\wfs100.py:154\u001b[0m, in \u001b[0;36mWebFeatureService_1_0_0.__init__\u001b[1;34m(self, url, version, xml, parse_remote_metadata, timeout, headers, username, password, auth)\u001b[0m\n\u001b[0;32m    152\u001b[0m     \u001b[39mself\u001b[39m\u001b[39m.\u001b[39m_capabilities \u001b[39m=\u001b[39m reader\u001b[39m.\u001b[39mreadString(xml)\n\u001b[0;32m    153\u001b[0m \u001b[39melse\u001b[39;00m:\n\u001b[1;32m--> 154\u001b[0m     \u001b[39mself\u001b[39m\u001b[39m.\u001b[39m_capabilities \u001b[39m=\u001b[39m reader\u001b[39m.\u001b[39;49mread(\u001b[39mself\u001b[39;49m\u001b[39m.\u001b[39;49murl, \u001b[39mself\u001b[39;49m\u001b[39m.\u001b[39;49mtimeout)\n\u001b[0;32m    155\u001b[0m \u001b[39mself\u001b[39m\u001b[39m.\u001b[39m_buildMetadata(parse_remote_metadata)\n",
      "File \u001b[1;32mc:\\Users\\dldls\\anaconda3\\Lib\\site-packages\\owslib\\feature\\common.py:54\u001b[0m, in \u001b[0;36mWFSCapabilitiesReader.read\u001b[1;34m(self, url, timeout)\u001b[0m\n\u001b[0;32m     43\u001b[0m \u001b[39m\u001b[39m\u001b[39m\"\"\"Get and parse a WFS capabilities document, returning an\u001b[39;00m\n\u001b[0;32m     44\u001b[0m \u001b[39minstance of WFSCapabilitiesInfoset\u001b[39;00m\n\u001b[0;32m     45\u001b[0m \n\u001b[1;32m   (...)\u001b[0m\n\u001b[0;32m     51\u001b[0m \u001b[39m    A timeout value (in seconds) for the request.\u001b[39;00m\n\u001b[0;32m     52\u001b[0m \u001b[39m\"\"\"\u001b[39;00m\n\u001b[0;32m     53\u001b[0m request \u001b[39m=\u001b[39m \u001b[39mself\u001b[39m\u001b[39m.\u001b[39mcapabilities_url(url)\n\u001b[1;32m---> 54\u001b[0m u \u001b[39m=\u001b[39m openURL(request, timeout\u001b[39m=\u001b[39;49mtimeout, headers\u001b[39m=\u001b[39;49m\u001b[39mself\u001b[39;49m\u001b[39m.\u001b[39;49mheaders, auth\u001b[39m=\u001b[39;49m\u001b[39mself\u001b[39;49m\u001b[39m.\u001b[39;49mauth)\n\u001b[0;32m     55\u001b[0m \u001b[39mreturn\u001b[39;00m etree\u001b[39m.\u001b[39mfromstring(u\u001b[39m.\u001b[39mread())\n",
      "File \u001b[1;32mc:\\Users\\dldls\\anaconda3\\Lib\\site-packages\\owslib\\util.py:209\u001b[0m, in \u001b[0;36mopenURL\u001b[1;34m(url_base, data, method, cookies, username, password, timeout, headers, verify, cert, auth)\u001b[0m\n\u001b[0;32m    206\u001b[0m \u001b[39mif\u001b[39;00m cookies \u001b[39mis\u001b[39;00m \u001b[39mnot\u001b[39;00m \u001b[39mNone\u001b[39;00m:\n\u001b[0;32m    207\u001b[0m     rkwargs[\u001b[39m'\u001b[39m\u001b[39mcookies\u001b[39m\u001b[39m'\u001b[39m] \u001b[39m=\u001b[39m cookies\n\u001b[1;32m--> 209\u001b[0m req \u001b[39m=\u001b[39m requests\u001b[39m.\u001b[39;49mrequest(method\u001b[39m.\u001b[39;49mupper(), url_base, headers\u001b[39m=\u001b[39;49mheaders, \u001b[39m*\u001b[39;49m\u001b[39m*\u001b[39;49mrkwargs)\n\u001b[0;32m    211\u001b[0m \u001b[39mif\u001b[39;00m req\u001b[39m.\u001b[39mstatus_code \u001b[39min\u001b[39;00m [\u001b[39m400\u001b[39m, \u001b[39m401\u001b[39m]:\n\u001b[0;32m    212\u001b[0m     \u001b[39mraise\u001b[39;00m ServiceException(req\u001b[39m.\u001b[39mtext)\n",
      "File \u001b[1;32mc:\\Users\\dldls\\anaconda3\\Lib\\site-packages\\requests\\api.py:59\u001b[0m, in \u001b[0;36mrequest\u001b[1;34m(method, url, **kwargs)\u001b[0m\n\u001b[0;32m     55\u001b[0m \u001b[39m# By using the 'with' statement we are sure the session is closed, thus we\u001b[39;00m\n\u001b[0;32m     56\u001b[0m \u001b[39m# avoid leaving sockets open which can trigger a ResourceWarning in some\u001b[39;00m\n\u001b[0;32m     57\u001b[0m \u001b[39m# cases, and look like a memory leak in others.\u001b[39;00m\n\u001b[0;32m     58\u001b[0m \u001b[39mwith\u001b[39;00m sessions\u001b[39m.\u001b[39mSession() \u001b[39mas\u001b[39;00m session:\n\u001b[1;32m---> 59\u001b[0m     \u001b[39mreturn\u001b[39;00m session\u001b[39m.\u001b[39;49mrequest(method\u001b[39m=\u001b[39;49mmethod, url\u001b[39m=\u001b[39;49murl, \u001b[39m*\u001b[39;49m\u001b[39m*\u001b[39;49mkwargs)\n",
      "File \u001b[1;32mc:\\Users\\dldls\\anaconda3\\Lib\\site-packages\\requests\\sessions.py:575\u001b[0m, in \u001b[0;36mSession.request\u001b[1;34m(self, method, url, params, data, headers, cookies, files, auth, timeout, allow_redirects, proxies, hooks, stream, verify, cert, json)\u001b[0m\n\u001b[0;32m    562\u001b[0m \u001b[39m# Create the Request.\u001b[39;00m\n\u001b[0;32m    563\u001b[0m req \u001b[39m=\u001b[39m Request(\n\u001b[0;32m    564\u001b[0m     method\u001b[39m=\u001b[39mmethod\u001b[39m.\u001b[39mupper(),\n\u001b[0;32m    565\u001b[0m     url\u001b[39m=\u001b[39murl,\n\u001b[1;32m   (...)\u001b[0m\n\u001b[0;32m    573\u001b[0m     hooks\u001b[39m=\u001b[39mhooks,\n\u001b[0;32m    574\u001b[0m )\n\u001b[1;32m--> 575\u001b[0m prep \u001b[39m=\u001b[39m \u001b[39mself\u001b[39;49m\u001b[39m.\u001b[39;49mprepare_request(req)\n\u001b[0;32m    577\u001b[0m proxies \u001b[39m=\u001b[39m proxies \u001b[39mor\u001b[39;00m {}\n\u001b[0;32m    579\u001b[0m settings \u001b[39m=\u001b[39m \u001b[39mself\u001b[39m\u001b[39m.\u001b[39mmerge_environment_settings(\n\u001b[0;32m    580\u001b[0m     prep\u001b[39m.\u001b[39murl, proxies, stream, verify, cert\n\u001b[0;32m    581\u001b[0m )\n",
      "File \u001b[1;32mc:\\Users\\dldls\\anaconda3\\Lib\\site-packages\\requests\\sessions.py:486\u001b[0m, in \u001b[0;36mSession.prepare_request\u001b[1;34m(self, request)\u001b[0m\n\u001b[0;32m    483\u001b[0m     auth \u001b[39m=\u001b[39m get_netrc_auth(request\u001b[39m.\u001b[39murl)\n\u001b[0;32m    485\u001b[0m p \u001b[39m=\u001b[39m PreparedRequest()\n\u001b[1;32m--> 486\u001b[0m p\u001b[39m.\u001b[39;49mprepare(\n\u001b[0;32m    487\u001b[0m     method\u001b[39m=\u001b[39;49mrequest\u001b[39m.\u001b[39;49mmethod\u001b[39m.\u001b[39;49mupper(),\n\u001b[0;32m    488\u001b[0m     url\u001b[39m=\u001b[39;49mrequest\u001b[39m.\u001b[39;49murl,\n\u001b[0;32m    489\u001b[0m     files\u001b[39m=\u001b[39;49mrequest\u001b[39m.\u001b[39;49mfiles,\n\u001b[0;32m    490\u001b[0m     data\u001b[39m=\u001b[39;49mrequest\u001b[39m.\u001b[39;49mdata,\n\u001b[0;32m    491\u001b[0m     json\u001b[39m=\u001b[39;49mrequest\u001b[39m.\u001b[39;49mjson,\n\u001b[0;32m    492\u001b[0m     headers\u001b[39m=\u001b[39;49mmerge_setting(\n\u001b[0;32m    493\u001b[0m         request\u001b[39m.\u001b[39;49mheaders, \u001b[39mself\u001b[39;49m\u001b[39m.\u001b[39;49mheaders, dict_class\u001b[39m=\u001b[39;49mCaseInsensitiveDict\n\u001b[0;32m    494\u001b[0m     ),\n\u001b[0;32m    495\u001b[0m     params\u001b[39m=\u001b[39;49mmerge_setting(request\u001b[39m.\u001b[39;49mparams, \u001b[39mself\u001b[39;49m\u001b[39m.\u001b[39;49mparams),\n\u001b[0;32m    496\u001b[0m     auth\u001b[39m=\u001b[39;49mmerge_setting(auth, \u001b[39mself\u001b[39;49m\u001b[39m.\u001b[39;49mauth),\n\u001b[0;32m    497\u001b[0m     cookies\u001b[39m=\u001b[39;49mmerged_cookies,\n\u001b[0;32m    498\u001b[0m     hooks\u001b[39m=\u001b[39;49mmerge_hooks(request\u001b[39m.\u001b[39;49mhooks, \u001b[39mself\u001b[39;49m\u001b[39m.\u001b[39;49mhooks),\n\u001b[0;32m    499\u001b[0m )\n\u001b[0;32m    500\u001b[0m \u001b[39mreturn\u001b[39;00m p\n",
      "File \u001b[1;32mc:\\Users\\dldls\\anaconda3\\Lib\\site-packages\\requests\\models.py:368\u001b[0m, in \u001b[0;36mPreparedRequest.prepare\u001b[1;34m(self, method, url, headers, files, data, params, auth, cookies, hooks, json)\u001b[0m\n\u001b[0;32m    365\u001b[0m \u001b[39m\u001b[39m\u001b[39m\"\"\"Prepares the entire request with the given parameters.\"\"\"\u001b[39;00m\n\u001b[0;32m    367\u001b[0m \u001b[39mself\u001b[39m\u001b[39m.\u001b[39mprepare_method(method)\n\u001b[1;32m--> 368\u001b[0m \u001b[39mself\u001b[39;49m\u001b[39m.\u001b[39;49mprepare_url(url, params)\n\u001b[0;32m    369\u001b[0m \u001b[39mself\u001b[39m\u001b[39m.\u001b[39mprepare_headers(headers)\n\u001b[0;32m    370\u001b[0m \u001b[39mself\u001b[39m\u001b[39m.\u001b[39mprepare_cookies(cookies)\n",
      "File \u001b[1;32mc:\\Users\\dldls\\anaconda3\\Lib\\site-packages\\requests\\models.py:439\u001b[0m, in \u001b[0;36mPreparedRequest.prepare_url\u001b[1;34m(self, url, params)\u001b[0m\n\u001b[0;32m    436\u001b[0m     \u001b[39mraise\u001b[39;00m InvalidURL(\u001b[39m*\u001b[39me\u001b[39m.\u001b[39margs)\n\u001b[0;32m    438\u001b[0m \u001b[39mif\u001b[39;00m \u001b[39mnot\u001b[39;00m scheme:\n\u001b[1;32m--> 439\u001b[0m     \u001b[39mraise\u001b[39;00m MissingSchema(\n\u001b[0;32m    440\u001b[0m         \u001b[39mf\u001b[39m\u001b[39m\"\u001b[39m\u001b[39mInvalid URL \u001b[39m\u001b[39m{\u001b[39;00murl\u001b[39m!r}\u001b[39;00m\u001b[39m: No scheme supplied. \u001b[39m\u001b[39m\"\u001b[39m\n\u001b[0;32m    441\u001b[0m         \u001b[39mf\u001b[39m\u001b[39m\"\u001b[39m\u001b[39mPerhaps you meant https://\u001b[39m\u001b[39m{\u001b[39;00murl\u001b[39m}\u001b[39;00m\u001b[39m?\u001b[39m\u001b[39m\"\u001b[39m\n\u001b[0;32m    442\u001b[0m     )\n\u001b[0;32m    444\u001b[0m \u001b[39mif\u001b[39;00m \u001b[39mnot\u001b[39;00m host:\n\u001b[0;32m    445\u001b[0m     \u001b[39mraise\u001b[39;00m InvalidURL(\u001b[39mf\u001b[39m\u001b[39m\"\u001b[39m\u001b[39mInvalid URL \u001b[39m\u001b[39m{\u001b[39;00murl\u001b[39m!r}\u001b[39;00m\u001b[39m: No host supplied\u001b[39m\u001b[39m\"\u001b[39m)\n",
      "\u001b[1;31mMissingSchema\u001b[0m: Invalid URL 'www.safemap.go.kr/openApiService/wms/getLayerData.do?apikey=TP5YLD8P-TP5Y-TP5Y-TP5Y-TP5YLD8PH9&service=WFS&request=GetCapabilities&version=1.0.0': No scheme supplied. Perhaps you meant https://www.safemap.go.kr/openApiService/wms/getLayerData.do?apikey=TP5YLD8P-TP5Y-TP5Y-TP5Y-TP5YLD8PH9&service=WFS&request=GetCapabilities&version=1.0.0?"
     ]
    }
   ],
   "source": [
    "import geopandas as gpd\n",
    "from requests import Request\n",
    "from owslib.wfs import WebFeatureService\n",
    "\n",
    "key = 'TP5YLD8P-TP5Y-TP5Y-TP5Y-TP5YLD8PH9'\n",
    "\n",
    "url = 'safemap.go.kr/openApiService/wms/getLayerData.do'\n",
    "\n",
    "param = {\n",
    "    'name': '범죄주의구간(전체)',\n",
    "    'serverUrl': 'www.safemap.go.kr/openApiService/wms/getLayerData.do?apikey=TP5YLD8P-TP5Y-TP5Y-TP5Y-TP5YLD8PH9',\n",
    "    'layername': 'A2SM_CRMNLHSPOT_TOT',\n",
    "    'styles': 'A2SM_CrmnlHspot_Tot_Tot'\n",
    "}\n",
    "\n",
    "wfs = WebFeatureService(url='www.safemap.go.kr/openApiService/wms/getLayerData.do?apikey=TP5YLD8P-TP5Y-TP5Y-TP5Y-TP5YLD8PH9')\n",
    "print(wfs.contents)\n"
   ]
  },
  {
   "cell_type": "code",
   "execution_count": 4,
   "metadata": {},
   "outputs": [],
   "source": [
    "import folium\n",
    "\n",
    "key = 'TP5YLD8P-TP5Y-TP5Y-TP5Y-TP5YLD8PH9'\n",
    "\n",
    "url = f\"http://www.safemap.go.kr/legend/legendApiXml.do?apikey={key}&layer=A2SM_CMMNPOI2&style=A2SM_CmmnPoi2\"\n",
    "\n",
    "param = {\n",
    "    'name': '범죄주의구간(전체)',\n",
    "    'serverUrl': url,\n",
    "    'layername': 'A2SM_CRMNLHSPOT_TOT',\n",
    "    'styles': 'A2SM_CrmnlHspot_Tot_Tot'\n",
    "}\n",
    "\n",
    "wms_layer = folium.raster_layers.WmsTileLayer(\n",
    "    url=param['serverUrl'],\n",
    "    name=param['name'],\n",
    "    fmt='image/png',\n",
    "    layers=param['layername'],\n",
    "    styles=param['styles'],\n",
    "    transparent=True\n",
    ")\n",
    "\n",
    "m = folium.Map(location=[0, 0], zoom_start=2)\n",
    "wms_layer.add_to(m)\n",
    "\n",
    "# 지도를 HTML 파일로 저장\n",
    "m.save('crime_map.html')\n"
   ]
  },
  {
   "cell_type": "code",
   "execution_count": 9,
   "metadata": {},
   "outputs": [
    {
     "ename": "AttributeError",
     "evalue": "'NoneType' object has no attribute 'find'",
     "output_type": "error",
     "traceback": [
      "\u001b[1;31m---------------------------------------------------------------------------\u001b[0m",
      "\u001b[1;31mAttributeError\u001b[0m                            Traceback (most recent call last)",
      "\u001b[1;32mc:\\Users\\dldls\\OneDrive\\바탕 화면\\Safe-return\\Server\\test\\Lee\\test.ipynb Cell 3\u001b[0m line \u001b[0;36m9\n\u001b[0;32m      <a href='vscode-notebook-cell:/c%3A/Users/dldls/OneDrive/%EB%B0%94%ED%83%95%20%ED%99%94%EB%A9%B4/Safe-return/Server/test/Lee/test.ipynb#X13sZmlsZQ%3D%3D?line=5'>6</a>\u001b[0m url \u001b[39m=\u001b[39m \u001b[39m'\u001b[39m\u001b[39mhttp://www.safemap.go.kr/legend/legendApiXml.do?apikey=TP5YLD8P-TP5Y-TP5Y-TP5Y-TP5YLD8PH9&layer=A2SM_CRMNLHSPOT_TOT\u001b[39m\u001b[39m'\u001b[39m\n\u001b[0;32m      <a href='vscode-notebook-cell:/c%3A/Users/dldls/OneDrive/%EB%B0%94%ED%83%95%20%ED%99%94%EB%A9%B4/Safe-return/Server/test/Lee/test.ipynb#X13sZmlsZQ%3D%3D?line=7'>8</a>\u001b[0m \u001b[39m# Initialize\u001b[39;00m\n\u001b[1;32m----> <a href='vscode-notebook-cell:/c%3A/Users/dldls/OneDrive/%EB%B0%94%ED%83%95%20%ED%99%94%EB%A9%B4/Safe-return/Server/test/Lee/test.ipynb#X13sZmlsZQ%3D%3D?line=8'>9</a>\u001b[0m wfs \u001b[39m=\u001b[39m WebFeatureService(url\u001b[39m=\u001b[39;49murl)\n",
      "File \u001b[1;32mc:\\Users\\dldls\\anaconda3\\Lib\\site-packages\\owslib\\wfs.py:48\u001b[0m, in \u001b[0;36mWebFeatureService\u001b[1;34m(url, version, xml, parse_remote_metadata, timeout, username, password, headers, auth)\u001b[0m\n\u001b[0;32m     45\u001b[0m clean_url \u001b[39m=\u001b[39m clean_ows_url(url)\n\u001b[0;32m     47\u001b[0m \u001b[39mif\u001b[39;00m version \u001b[39min\u001b[39;00m [\u001b[39m'\u001b[39m\u001b[39m1.0\u001b[39m\u001b[39m'\u001b[39m, \u001b[39m'\u001b[39m\u001b[39m1.0.0\u001b[39m\u001b[39m'\u001b[39m]:\n\u001b[1;32m---> 48\u001b[0m     \u001b[39mreturn\u001b[39;00m wfs100\u001b[39m.\u001b[39;49mWebFeatureService_1_0_0(\n\u001b[0;32m     49\u001b[0m         clean_url, version, xml, parse_remote_metadata,\n\u001b[0;32m     50\u001b[0m         timeout\u001b[39m=\u001b[39;49mtimeout, headers\u001b[39m=\u001b[39;49mheaders, auth\u001b[39m=\u001b[39;49mauth)\n\u001b[0;32m     51\u001b[0m \u001b[39melif\u001b[39;00m version \u001b[39min\u001b[39;00m [\u001b[39m'\u001b[39m\u001b[39m1.1\u001b[39m\u001b[39m'\u001b[39m, \u001b[39m'\u001b[39m\u001b[39m1.1.0\u001b[39m\u001b[39m'\u001b[39m]:\n\u001b[0;32m     52\u001b[0m     \u001b[39mreturn\u001b[39;00m wfs110\u001b[39m.\u001b[39mWebFeatureService_1_1_0(\n\u001b[0;32m     53\u001b[0m         clean_url, version, xml, parse_remote_metadata,\n\u001b[0;32m     54\u001b[0m         timeout\u001b[39m=\u001b[39mtimeout, headers\u001b[39m=\u001b[39mheaders, auth\u001b[39m=\u001b[39mauth)\n",
      "File \u001b[1;32mc:\\Users\\dldls\\anaconda3\\Lib\\site-packages\\owslib\\feature\\wfs100.py:106\u001b[0m, in \u001b[0;36mWebFeatureService_1_0_0.__new__\u001b[1;34m(self, url, version, xml, parse_remote_metadata, timeout, headers, username, password, auth)\u001b[0m\n\u001b[0;32m     90\u001b[0m \u001b[39m\u001b[39m\u001b[39m\"\"\" overridden __new__ method\u001b[39;00m\n\u001b[0;32m     91\u001b[0m \n\u001b[0;32m     92\u001b[0m \u001b[39m@type url: string\u001b[39;00m\n\u001b[1;32m   (...)\u001b[0m\n\u001b[0;32m    103\u001b[0m \u001b[39m@return: initialized WebFeatureService_1_0_0 object\u001b[39;00m\n\u001b[0;32m    104\u001b[0m \u001b[39m\"\"\"\u001b[39;00m\n\u001b[0;32m    105\u001b[0m obj \u001b[39m=\u001b[39m \u001b[39mobject\u001b[39m\u001b[39m.\u001b[39m\u001b[39m__new__\u001b[39m(\u001b[39mself\u001b[39m)\n\u001b[1;32m--> 106\u001b[0m obj\u001b[39m.\u001b[39;49m\u001b[39m__init__\u001b[39;49m(\n\u001b[0;32m    107\u001b[0m     url,\n\u001b[0;32m    108\u001b[0m     version,\n\u001b[0;32m    109\u001b[0m     xml,\n\u001b[0;32m    110\u001b[0m     parse_remote_metadata,\n\u001b[0;32m    111\u001b[0m     timeout,\n\u001b[0;32m    112\u001b[0m     headers\u001b[39m=\u001b[39;49mheaders,\n\u001b[0;32m    113\u001b[0m     username\u001b[39m=\u001b[39;49musername,\n\u001b[0;32m    114\u001b[0m     password\u001b[39m=\u001b[39;49mpassword,\n\u001b[0;32m    115\u001b[0m     auth\u001b[39m=\u001b[39;49mauth,\n\u001b[0;32m    116\u001b[0m )\n\u001b[0;32m    117\u001b[0m \u001b[39mreturn\u001b[39;00m obj\n",
      "File \u001b[1;32mc:\\Users\\dldls\\anaconda3\\Lib\\site-packages\\owslib\\feature\\wfs100.py:155\u001b[0m, in \u001b[0;36mWebFeatureService_1_0_0.__init__\u001b[1;34m(self, url, version, xml, parse_remote_metadata, timeout, headers, username, password, auth)\u001b[0m\n\u001b[0;32m    153\u001b[0m \u001b[39melse\u001b[39;00m:\n\u001b[0;32m    154\u001b[0m     \u001b[39mself\u001b[39m\u001b[39m.\u001b[39m_capabilities \u001b[39m=\u001b[39m reader\u001b[39m.\u001b[39mread(\u001b[39mself\u001b[39m\u001b[39m.\u001b[39murl, \u001b[39mself\u001b[39m\u001b[39m.\u001b[39mtimeout)\n\u001b[1;32m--> 155\u001b[0m \u001b[39mself\u001b[39;49m\u001b[39m.\u001b[39;49m_buildMetadata(parse_remote_metadata)\n",
      "File \u001b[1;32mc:\\Users\\dldls\\anaconda3\\Lib\\site-packages\\owslib\\feature\\wfs100.py:164\u001b[0m, in \u001b[0;36mWebFeatureService_1_0_0._buildMetadata\u001b[1;34m(self, parse_remote_metadata)\u001b[0m\n\u001b[0;32m    162\u001b[0m \u001b[39m# serviceIdentification metadata\u001b[39;00m\n\u001b[0;32m    163\u001b[0m serviceelem \u001b[39m=\u001b[39m \u001b[39mself\u001b[39m\u001b[39m.\u001b[39m_capabilities\u001b[39m.\u001b[39mfind(nspath(\u001b[39m\"\u001b[39m\u001b[39mService\u001b[39m\u001b[39m\"\u001b[39m))\n\u001b[1;32m--> 164\u001b[0m \u001b[39mself\u001b[39m\u001b[39m.\u001b[39midentification \u001b[39m=\u001b[39m ServiceIdentification(serviceelem, \u001b[39mself\u001b[39;49m\u001b[39m.\u001b[39;49mversion)\n\u001b[0;32m    166\u001b[0m \u001b[39m# serviceProvider metadata\u001b[39;00m\n\u001b[0;32m    167\u001b[0m \u001b[39mself\u001b[39m\u001b[39m.\u001b[39mprovider \u001b[39m=\u001b[39m ServiceProvider(serviceelem)\n",
      "File \u001b[1;32mc:\\Users\\dldls\\anaconda3\\Lib\\site-packages\\owslib\\feature\\wfs100.py:353\u001b[0m, in \u001b[0;36mServiceIdentification.__init__\u001b[1;34m(self, infoset, version)\u001b[0m\n\u001b[0;32m    351\u001b[0m \u001b[39mdef\u001b[39;00m \u001b[39m__init__\u001b[39m(\u001b[39mself\u001b[39m, infoset, version):\n\u001b[0;32m    352\u001b[0m     \u001b[39mself\u001b[39m\u001b[39m.\u001b[39m_root \u001b[39m=\u001b[39m infoset\n\u001b[1;32m--> 353\u001b[0m     \u001b[39mself\u001b[39m\u001b[39m.\u001b[39mtype \u001b[39m=\u001b[39m testXMLValue(\u001b[39mself\u001b[39;49m\u001b[39m.\u001b[39;49m_root\u001b[39m.\u001b[39;49mfind(nspath(\u001b[39m\"\u001b[39m\u001b[39mName\u001b[39m\u001b[39m\"\u001b[39m)))\n\u001b[0;32m    354\u001b[0m     \u001b[39mself\u001b[39m\u001b[39m.\u001b[39mversion \u001b[39m=\u001b[39m version\n\u001b[0;32m    355\u001b[0m     \u001b[39mself\u001b[39m\u001b[39m.\u001b[39mtitle \u001b[39m=\u001b[39m testXMLValue(\u001b[39mself\u001b[39m\u001b[39m.\u001b[39m_root\u001b[39m.\u001b[39mfind(nspath(\u001b[39m\"\u001b[39m\u001b[39mTitle\u001b[39m\u001b[39m\"\u001b[39m)))\n",
      "\u001b[1;31mAttributeError\u001b[0m: 'NoneType' object has no attribute 'find'"
     ]
    }
   ],
   "source": [
    "import geopandas as gpd\n",
    "from requests import Request\n",
    "from owslib.wfs import WebFeatureService\n",
    "\n",
    "# URL for WFS backend\n",
    "url = 'http://www.safemap.go.kr/legend/legendApiXml.do?apikey=TP5YLD8P-TP5Y-TP5Y-TP5Y-TP5YLD8PH9&layer=A2SM_CRMNLHSPOT_TOT&style=A2SM_CrmnlHspot_Tot_Tot'\n",
    "\n",
    "# Initialize\n",
    "wfs = WebFeatureService(url=url)"
   ]
  },
  {
   "cell_type": "code",
   "execution_count": 5,
   "metadata": {},
   "outputs": [],
   "source": [
    "import folium\n",
    "\n",
    "param = {\n",
    "    'name': '어린이대상범죄주의구간',\n",
    "    'serverUrl': 'https://www.safemap.go.kr/sm/apis.do?apikey=TP5YLD8P-TP5Y-TP5Y-TP5Y-TP5YLD8PH9',\n",
    "    'layername': 'A2SM_ODBLRCRMNLHSPOT_KID',\n",
    "    'styles': 'A2SM_OdblrCrmnlHspot_Kid'\n",
    "}\n",
    "\n",
    "# Folium을 사용하여 지도 생성\n",
    "m = folium.Map(location=[0, 0], zoom_start=2)  # 지도의 초기 위치와 줌 레벨 설정\n",
    "\n",
    "# WMS 레이어 생성\n",
    "wms_layer = folium.WmsTileLayer(\n",
    "    url=param['serverUrl'],\n",
    "    name=param['name'],\n",
    "    layers=param['layername'],\n",
    "    styles=param['styles'],\n",
    "    format='image/png',\n",
    "    transparent=True,\n",
    "    control=True  # 컨트롤 패널에 추가\n",
    ")\n",
    "\n",
    "# WMS 레이어를 지도에 추가\n",
    "wms_layer.add_to(m)\n",
    "\n",
    "# HTML 파일로 지도 저장\n",
    "m.save('map.html')\n"
   ]
  },
  {
   "cell_type": "code",
   "execution_count": 9,
   "metadata": {},
   "outputs": [
    {
     "name": "stdout",
     "output_type": "stream",
     "text": [
      "\n",
      "    Creates a Web Map Service (WMS) layer.\n",
      "\n",
      "    Parameters\n",
      "    ----------\n",
      "    url : str\n",
      "        The url of the WMS server.\n",
      "    layers : str\n",
      "        Comma-separated list of WMS layers to show.\n",
      "    styles : str, optional\n",
      "        Comma-separated list of WMS styles.\n",
      "    fmt : str, default 'image/jpeg'\n",
      "        The format of the service output. Ex: 'image/png'\n",
      "    transparent: bool, default False\n",
      "        Whether the layer shall allow transparency.\n",
      "    version : str, default '1.1.1'\n",
      "        Version of the WMS service to use.\n",
      "    attr : str, default ''\n",
      "        The attribution of the service.\n",
      "        Will be displayed in the bottom right corner.\n",
      "    name : string, optional\n",
      "        The name of the Layer, as it will appear in LayerControls\n",
      "    overlay : bool, default True\n",
      "        Adds the layer as an optional overlay (True) or the base layer (False).\n",
      "    control : bool, default True\n",
      "        Whether the Layer will be included in LayerControls.\n",
      "    show: bool, default True\n",
      "        Whether the layer will be shown on opening (only for overlays).\n",
      "    **kwargs : additional keyword arguments\n",
      "        Passed through to the underlying tileLayer.wms object and can be used\n",
      "        for setting extra tileLayer.wms parameters or as extra parameters in\n",
      "        the WMS request.\n",
      "\n",
      "    See https://leafletjs.com/reference.html#tilelayer-wms\n",
      "    \n"
     ]
    }
   ],
   "source": [
    "import folium\n",
    "\n",
    "param = {\n",
    "    'name': '치안안전',\n",
    "    'serverUrl': 'https://www.safemap.go.kr/sm/apis.do?apikey=TP5YLD8P-TP5Y-TP5Y-TP5Y-TP5YLD8PH9',\n",
    "    'layername': 'A2SM_CMMNPOI2',\n",
    "    'styles': 'A2SM_CmmnPoi2'\n",
    "}\n",
    "\n",
    "# Folium을 사용하여 지도 생성\n",
    "m = folium.Map(location=[0, 0], zoom_start=2)  # 초기 위치 및 줌 레벨 설정\n",
    "\n",
    "# WMS 레이어 생성\n",
    "wms_layer = folium.WmsTileLayer(\n",
    "    url=param['serverUrl'],\n",
    "    name=param['name'],\n",
    "    layers=param['layername'],\n",
    "    styles=param['styles'],\n",
    "    format='image/png',\n",
    "    transparent=True,\n",
    "    control=True  # 컨트롤 패널에 추가\n",
    ")\n",
    "\n",
    "print(wms_layer.__doc__)\n",
    "\n",
    "# WMS 레이어를 지도에 추가\n",
    "wms_layer.add_to(m)\n",
    "\n",
    "# HTML 파일로 지도 저장\n",
    "m.save('map.html')\n"
   ]
  },
  {
   "cell_type": "code",
   "execution_count": null,
   "metadata": {},
   "outputs": [],
   "source": []
  }
 ],
 "metadata": {
  "kernelspec": {
   "display_name": "Python 3",
   "language": "python",
   "name": "python3"
  },
  "language_info": {
   "codemirror_mode": {
    "name": "ipython",
    "version": 3
   },
   "file_extension": ".py",
   "mimetype": "text/x-python",
   "name": "python",
   "nbconvert_exporter": "python",
   "pygments_lexer": "ipython3",
   "version": "3.11.5"
  },
  "orig_nbformat": 4
 },
 "nbformat": 4,
 "nbformat_minor": 2
}
