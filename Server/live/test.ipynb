{
 "cells": [
  {
   "cell_type": "code",
   "execution_count": 6,
   "metadata": {},
   "outputs": [],
   "source": [
    "import shapely\n",
    "import requests\n",
    "import geopandas as gpd\n",
    "from shapely.geometry import Point\n",
    "from shapely.ops import nearest_points"
   ]
  },
  {
   "cell_type": "code",
   "execution_count": 7,
   "metadata": {},
   "outputs": [],
   "source": [
    "negetive_data = gpd.read_file(\"C:/Users/dldls/OneDrive/바탕 화면/Safe-return/Server/live/shapes/neget.shp\")\n",
    "positive_data = gpd.read_file(\"C:/Users/dldls/OneDrive/바탕 화면/Safe-return/Server/live/shapes/positive_state.shp\")"
   ]
  },
  {
   "cell_type": "code",
   "execution_count": 15,
   "metadata": {},
   "outputs": [
    {
     "name": "stdout",
     "output_type": "stream",
     "text": [
      "POLYGON ((130.90754128415048 37.49373976242462, 130.90752816729685 37.49365694587012, 130.90749010070496 37.493582235977, 130.9074308105981 37.493522945870126, 130.90735610070496 37.49348487927825, 130.90727328415048 37.49347176242462, 130.907190467596 37.49348487927825, 130.90711575770285 37.493522945870126, 130.907056467596 37.493582235977, 130.9070184010041 37.49365694587012, 130.90700528415047 37.49373976242462, 130.9070184010041 37.49382257897911, 130.907056467596 37.49389728887223, 130.90711575770285 37.49395657897911, 130.907190467596 37.493994645570986, 130.90727328415048 37.494007762424616, 130.90735610070496 37.493994645570986, 130.9074308105981 37.49395657897911, 130.90749010070496 37.49389728887223, 130.90752816729685 37.49382257897911, 130.90754128415048 37.49373976242462))\n"
     ]
    },
    {
     "ename": "TypeError",
     "evalue": "One of the arguments is of incorrect type. Please provide only Geometry objects.",
     "output_type": "error",
     "traceback": [
      "\u001b[1;31m---------------------------------------------------------------------------\u001b[0m",
      "\u001b[1;31mTypeError\u001b[0m                                 Traceback (most recent call last)",
      "\u001b[1;32mc:\\Users\\dldls\\OneDrive\\바탕 화면\\Safe-return\\Server\\live\\test.ipynb Cell 3\u001b[0m line \u001b[0;36m4\n\u001b[0;32m      <a href='vscode-notebook-cell:/c%3A/Users/dldls/OneDrive/%EB%B0%94%ED%83%95%20%ED%99%94%EB%A9%B4/Safe-return/Server/live/test.ipynb#W2sZmlsZQ%3D%3D?line=1'>2</a>\u001b[0m \u001b[39mprint\u001b[39m(site[\u001b[39m\"\u001b[39m\u001b[39mgeometry\u001b[39m\u001b[39m\"\u001b[39m])\n\u001b[0;32m      <a href='vscode-notebook-cell:/c%3A/Users/dldls/OneDrive/%EB%B0%94%ED%83%95%20%ED%99%94%EB%A9%B4/Safe-return/Server/live/test.ipynb#W2sZmlsZQ%3D%3D?line=2'>3</a>\u001b[0m a \u001b[39m=\u001b[39m site[\u001b[39m\"\u001b[39m\u001b[39mgeometry\u001b[39m\u001b[39m\"\u001b[39m]\n\u001b[1;32m----> <a href='vscode-notebook-cell:/c%3A/Users/dldls/OneDrive/%EB%B0%94%ED%83%95%20%ED%99%94%EB%A9%B4/Safe-return/Server/live/test.ipynb#W2sZmlsZQ%3D%3D?line=3'>4</a>\u001b[0m nearest \u001b[39m=\u001b[39m nearest_points(site, Point(\u001b[39m126.23423\u001b[39;49m, \u001b[39m34.2542523\u001b[39;49m))\n\u001b[0;32m      <a href='vscode-notebook-cell:/c%3A/Users/dldls/OneDrive/%EB%B0%94%ED%83%95%20%ED%99%94%EB%A9%B4/Safe-return/Server/live/test.ipynb#W2sZmlsZQ%3D%3D?line=4'>5</a>\u001b[0m \u001b[39mprint\u001b[39m(nearest)\n",
      "File \u001b[1;32mc:\\Users\\dldls\\AppData\\Local\\Programs\\Python\\Python311\\Lib\\site-packages\\shapely\\ops.py:307\u001b[0m, in \u001b[0;36mnearest_points\u001b[1;34m(g1, g2)\u001b[0m\n\u001b[0;32m    302\u001b[0m \u001b[39mdef\u001b[39;00m \u001b[39mnearest_points\u001b[39m(g1, g2):\n\u001b[0;32m    303\u001b[0m \u001b[39m    \u001b[39m\u001b[39m\"\"\"Returns the calculated nearest points in the input geometries\u001b[39;00m\n\u001b[0;32m    304\u001b[0m \n\u001b[0;32m    305\u001b[0m \u001b[39m    The points are returned in the same order as the input geometries.\u001b[39;00m\n\u001b[0;32m    306\u001b[0m \u001b[39m    \"\"\"\u001b[39;00m\n\u001b[1;32m--> 307\u001b[0m     seq \u001b[39m=\u001b[39m shapely\u001b[39m.\u001b[39;49mshortest_line(g1, g2)\n\u001b[0;32m    308\u001b[0m     \u001b[39mif\u001b[39;00m seq \u001b[39mis\u001b[39;00m \u001b[39mNone\u001b[39;00m:\n\u001b[0;32m    309\u001b[0m         \u001b[39mif\u001b[39;00m g1\u001b[39m.\u001b[39mis_empty:\n",
      "File \u001b[1;32mc:\\Users\\dldls\\AppData\\Local\\Programs\\Python\\Python311\\Lib\\site-packages\\shapely\\decorators.py:77\u001b[0m, in \u001b[0;36mmultithreading_enabled.<locals>.wrapped\u001b[1;34m(*args, **kwargs)\u001b[0m\n\u001b[0;32m     75\u001b[0m     \u001b[39mfor\u001b[39;00m arr \u001b[39min\u001b[39;00m array_args:\n\u001b[0;32m     76\u001b[0m         arr\u001b[39m.\u001b[39mflags\u001b[39m.\u001b[39mwriteable \u001b[39m=\u001b[39m \u001b[39mFalse\u001b[39;00m\n\u001b[1;32m---> 77\u001b[0m     \u001b[39mreturn\u001b[39;00m func(\u001b[39m*\u001b[39;49margs, \u001b[39m*\u001b[39;49m\u001b[39m*\u001b[39;49mkwargs)\n\u001b[0;32m     78\u001b[0m \u001b[39mfinally\u001b[39;00m:\n\u001b[0;32m     79\u001b[0m     \u001b[39mfor\u001b[39;00m arr, old_flag \u001b[39min\u001b[39;00m \u001b[39mzip\u001b[39m(array_args, old_flags):\n",
      "File \u001b[1;32mc:\\Users\\dldls\\AppData\\Local\\Programs\\Python\\Python311\\Lib\\site-packages\\shapely\\linear.py:208\u001b[0m, in \u001b[0;36mshortest_line\u001b[1;34m(a, b, **kwargs)\u001b[0m\n\u001b[0;32m    177\u001b[0m \u001b[39m@multithreading_enabled\u001b[39m\n\u001b[0;32m    178\u001b[0m \u001b[39mdef\u001b[39;00m \u001b[39mshortest_line\u001b[39m(a, b, \u001b[39m*\u001b[39m\u001b[39m*\u001b[39mkwargs):\n\u001b[0;32m    179\u001b[0m \u001b[39m    \u001b[39m\u001b[39m\"\"\"\u001b[39;00m\n\u001b[0;32m    180\u001b[0m \u001b[39m    Returns the shortest line between two geometries.\u001b[39;00m\n\u001b[0;32m    181\u001b[0m \n\u001b[1;32m   (...)\u001b[0m\n\u001b[0;32m    206\u001b[0m \u001b[39m    <LINESTRING (1 1, 1.5 1.5)>\u001b[39;00m\n\u001b[0;32m    207\u001b[0m \u001b[39m    \"\"\"\u001b[39;00m\n\u001b[1;32m--> 208\u001b[0m     \u001b[39mreturn\u001b[39;00m lib\u001b[39m.\u001b[39;49mshortest_line(a, b, \u001b[39m*\u001b[39;49m\u001b[39m*\u001b[39;49mkwargs)\n",
      "File \u001b[1;32mc:\\Users\\dldls\\AppData\\Local\\Programs\\Python\\Python311\\Lib\\site-packages\\pandas\\core\\generic.py:2016\u001b[0m, in \u001b[0;36mNDFrame.__array_ufunc__\u001b[1;34m(self, ufunc, method, *inputs, **kwargs)\u001b[0m\n\u001b[0;32m   2012\u001b[0m \u001b[39m@final\u001b[39m\n\u001b[0;32m   2013\u001b[0m \u001b[39mdef\u001b[39;00m \u001b[39m__array_ufunc__\u001b[39m(\n\u001b[0;32m   2014\u001b[0m     \u001b[39mself\u001b[39m, ufunc: np\u001b[39m.\u001b[39mufunc, method: \u001b[39mstr\u001b[39m, \u001b[39m*\u001b[39minputs: Any, \u001b[39m*\u001b[39m\u001b[39m*\u001b[39mkwargs: Any\n\u001b[0;32m   2015\u001b[0m ):\n\u001b[1;32m-> 2016\u001b[0m     \u001b[39mreturn\u001b[39;00m arraylike\u001b[39m.\u001b[39;49marray_ufunc(\u001b[39mself\u001b[39;49m, ufunc, method, \u001b[39m*\u001b[39;49minputs, \u001b[39m*\u001b[39;49m\u001b[39m*\u001b[39;49mkwargs)\n",
      "File \u001b[1;32mc:\\Users\\dldls\\AppData\\Local\\Programs\\Python\\Python311\\Lib\\site-packages\\pandas\\core\\arraylike.py:396\u001b[0m, in \u001b[0;36marray_ufunc\u001b[1;34m(self, ufunc, method, *inputs, **kwargs)\u001b[0m\n\u001b[0;32m    393\u001b[0m \u001b[39melif\u001b[39;00m \u001b[39mself\u001b[39m\u001b[39m.\u001b[39mndim \u001b[39m==\u001b[39m \u001b[39m1\u001b[39m:\n\u001b[0;32m    394\u001b[0m     \u001b[39m# ufunc(series, ...)\u001b[39;00m\n\u001b[0;32m    395\u001b[0m     inputs \u001b[39m=\u001b[39m \u001b[39mtuple\u001b[39m(extract_array(x, extract_numpy\u001b[39m=\u001b[39m\u001b[39mTrue\u001b[39;00m) \u001b[39mfor\u001b[39;00m x \u001b[39min\u001b[39;00m inputs)\n\u001b[1;32m--> 396\u001b[0m     result \u001b[39m=\u001b[39m \u001b[39mgetattr\u001b[39;49m(ufunc, method)(\u001b[39m*\u001b[39;49minputs, \u001b[39m*\u001b[39;49m\u001b[39m*\u001b[39;49mkwargs)\n\u001b[0;32m    397\u001b[0m \u001b[39melse\u001b[39;00m:\n\u001b[0;32m    398\u001b[0m     \u001b[39m# ufunc(dataframe)\u001b[39;00m\n\u001b[0;32m    399\u001b[0m     \u001b[39mif\u001b[39;00m method \u001b[39m==\u001b[39m \u001b[39m\"\u001b[39m\u001b[39m__call__\u001b[39m\u001b[39m\"\u001b[39m \u001b[39mand\u001b[39;00m \u001b[39mnot\u001b[39;00m kwargs:\n\u001b[0;32m    400\u001b[0m         \u001b[39m# for np.<ufunc>(..) calls\u001b[39;00m\n\u001b[0;32m    401\u001b[0m         \u001b[39m# kwargs cannot necessarily be handled block-by-block, so only\u001b[39;00m\n\u001b[0;32m    402\u001b[0m         \u001b[39m# take this path if there are no kwargs\u001b[39;00m\n",
      "\u001b[1;31mTypeError\u001b[0m: One of the arguments is of incorrect type. Please provide only Geometry objects."
     ]
    }
   ],
   "source": [
    "for _, site in negetive_data.iterrows():\n",
    "    print(site[\"geometry\"])\n",
    "    a = site[\"geometry\"]\n",
    "    nearest = nearest_points(site, Point(126.23423, 34.2542523))\n",
    "    print(nearest)"
   ]
  },
  {
   "cell_type": "code",
   "execution_count": 22,
   "metadata": {},
   "outputs": [
    {
     "data": {
      "text/plain": [
       "(35.0, 36.0)"
      ]
     },
     "execution_count": 22,
     "metadata": {},
     "output_type": "execute_result"
    }
   ],
   "source": [
    "from shapely.geometry import Point\n",
    "x, y = Point(35, 36).x, Point(35, 36).y\n",
    "x, y"
   ]
  }
 ],
 "metadata": {
  "kernelspec": {
   "display_name": "Python 3",
   "language": "python",
   "name": "python3"
  },
  "language_info": {
   "codemirror_mode": {
    "name": "ipython",
    "version": 3
   },
   "file_extension": ".py",
   "mimetype": "text/x-python",
   "name": "python",
   "nbconvert_exporter": "python",
   "pygments_lexer": "ipython3",
   "version": "3.11.1"
  }
 },
 "nbformat": 4,
 "nbformat_minor": 2
}
